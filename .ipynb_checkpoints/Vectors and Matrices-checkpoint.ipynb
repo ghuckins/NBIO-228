{
 "cells": [
  {
   "cell_type": "markdown",
   "id": "3b3a85d4",
   "metadata": {},
   "source": [
    "# Vectors and Matrices"
   ]
  },
  {
   "cell_type": "markdown",
   "id": "1a56fcff",
   "metadata": {},
   "source": [
    "If you are sitting in this class, you may have seen linear algebra—the mathematics of vectors, matrices, and their operations—before. But linear algebra is fundamental to a huge chunk of computational neuroscience, so we'll be taking the time to review some basic concepts.\n",
    "\n",
    "You could take a whole quarter of linear algebra in the math department here; we won't be going into that much detail, or be getting as theoretical as a math course might. Instead, we will be approaching linear algebra from the perspective of neuroscience. Why are the tools of linear algebra so useful for us? What do all the topics you've previously learned about mean in neuroscientific terms? And how might you use linear algebra in your research?"
   ]
  },
  {
   "cell_type": "markdown",
   "id": "b2ab5878",
   "metadata": {},
   "source": [
    ":::{admonition} Learning Goals\n",
    ":class: important\n",
    "By the end of this week, you should be able to:\n",
    "* Describe and identify scalars, vectors, and matrices\n",
    "* Apply basic operations like the transpose, the dot product, and matrix multiplication\n",
    "* Explain what it means to change from one vector basis to another, and carry out that computation\n",
    "* Articulate why linear algebra is so foundational to computational neuroscience\n",
    "* Describe a simple neural circuit in terms of vectors and matrices\n",
    ":::"
   ]
  },
  {
   "cell_type": "markdown",
   "id": "60ed8202",
   "metadata": {},
   "source": [
    "## Vectors\n",
    "\n",
    "Before we talk about vectors, we need to talk about scalars. Don't worry if you've never heard of a scalar before—you definitely know what they are. \"Scalar\" is just a fancy word for a single number or variable. 2 is a scalar, $\\pi$ is a scalar, $x$ is a scalar. When you see a single algebraic symbol—$x,$ $y,$ $a$—it will typically represent a scalar.\n",
    "\n",
    "And, of course, individual quantites we might talk about when we talk about neurons—the activity level of a single neuron, the strength of the connection between two specfic neurons—those are scalars, too."
   ]
  },
  {
   "cell_type": "markdown",
   "id": "ae8f8d40",
   "metadata": {},
   "source": [
    ":::{admonition} Definition\n",
    ":class: note\n",
    "A ***scalar*** is a single number or a single algebraic quantity."
   ]
  },
  {
   "cell_type": "markdown",
   "id": "8ff28755",
   "metadata": {},
   "source": [
    "```{figure} ./figs/figure1.png\n",
    "---\n",
    "height: 200px\n",
    "---\n",
    "<i>One way scalars are used in neuroscience—to describe the activity level of a single neuron, as x is doing here.</i>\n",
    "```"
   ]
  },
  {
   "cell_type": "markdown",
   "id": "82c140e8",
   "metadata": {},
   "source": [
    "Scalars are the basic building blocks of everything we will be talking about today. A vector, for example, is an ordered collection of scalars. What does that mean? Well, let's say we have some quantities $x_1,$ $x_2,$ $x_3.$ We can build a vector $\\textbf{x} = [x_1, x_2, x_3].$ Actually, we'll typically write vectors vertically, so it will look something more like:\n",
    "\\begin{align}\n",
    "\t\\textbf{x} = \\left[\\begin{matrix} x_1 \\\\ x_2 \\\\ x_3 \\end{matrix}\\right]\n",
    "\\end{align}\n",
    "Or, we might create a different vector out of those three scalars:\n",
    "\\begin{align}\n",
    "\t\\textbf{x}^\\prime = \\left[\\begin{matrix} x_2 \\\\ x_3 \\\\ x_1 \\end{matrix}\\right]\n",
    "\\end{align}\n",
    "(You'll generally see vectors written in bold, like $\\textbf{x},$ or with an arrow over them, like $\\vec{x}$.)"
   ]
  },
  {
   "cell_type": "markdown",
   "id": "94011ccf",
   "metadata": {},
   "source": [
    ":::{admonition} Definition\n",
    ":class: note\n",
    "A ***vector*** is an ordered collection of scalars."
   ]
  },
  {
   "cell_type": "markdown",
   "id": "9980993f",
   "metadata": {},
   "source": [
    "Why do this at all? Why not just use scalars? Technically, we can do all of the math we want to do with scalars. But sometimes we want to do the same math to a bunch of quantities at the same time, and vectors help us make that math much simpler. For example, let's say the three neurons with activity levels $x_1,$ $x_2,$ $x_3$ all receive inputs from a single neuron with activity level $y,$ and that the connections all have the same weight, $w.$ (We're ignoring action potentials for the moment and assuming the input each neuron sends to another neuron is just the product of its activity level and the strength of the connection between the two neurons.)"
   ]
  },
  {
   "cell_type": "markdown",
   "id": "1fac465c",
   "metadata": {},
   "source": [
    "```{figure} ./figs/figure\\ 2.png\n",
    "---\n",
    "height: 400px\n",
    "---\n",
    "```"
   ]
  },
  {
   "cell_type": "markdown",
   "id": "e4ce7d6a",
   "metadata": {},
   "source": [
    "How much does the activity level of each neuron change? We can write the equations:\n",
    "\\begin{align}\n",
    "\tx_1(t+1) = x_1(t) + wy(t)\\\\\n",
    "\tx_2(t+1) = x_2(t) + wy(t)\\\\\n",
    "\tx_3(t+1) = x_3(t) + wy(t)\n",
    "\\end{align}\n",
    "Here, $x_1(t)$ represents the activity level of the corresponding neuron at time $t,$ and $x_1(t+1)$ represents its activity level one \"time step\" into the future, after it has received the input from neuron $y.$ (Don't worry too much about the details of the timing for now."
   ]
  },
  {
   "cell_type": "markdown",
   "id": "f12a6ace",
   "metadata": {},
   "source": [
    "Vectors allow us to write these three equations as one. We can say:\n",
    ":::{math}\n",
    ":label: eq1\n",
    "\t\\textbf{x}(t+1) = \\textbf{x}(t) + wy(t)\n",
    ":::\n",
    "where $\\textbf{x}(t) = \\left[\\begin{matrix} x_1(t) \\\\ x_2(t) \\\\ x_3(t) \\end{matrix}\\right].$\n",
    "\n",
    "What does this equation mean? This rule will help us figure it out:"
   ]
  },
  {
   "cell_type": "markdown",
   "id": "747e7c2c",
   "metadata": {},
   "source": [
    ":::{tip}\n",
    "When we add, subtract, multiply, or divide a vector by a scalar, we apply that operation to every element of the vector.\n",
    ":::"
   ]
  },
  {
   "cell_type": "markdown",
   "id": "0f8fe63e",
   "metadata": {},
   "source": [
    "So we can break down {eq}`eq1` into its component parts by adding $wy(t)$ to each element of $\\textbf{x}(t)$:\n",
    "\\begin{align}\n",
    "\t \\left[\\begin{matrix} x_1(t) \\\\ x_2(t) \\\\ x_3(t) \\end{matrix}\\right] + wy(t) &= \\left[\\begin{matrix} x_1(t) + wy(t)  \\\\ x_2(t) + wy(t)\\\\ x_3(t)  + wy(t)\\end{matrix}\\right]\n",
    "\\end{align}\n",
    "And if we wanted to multiply our vector $\\textbf{x}$ by some scalar $a,$ we would have:\n",
    "\\begin{align}\n",
    "\ta \\left[\\begin{matrix} x_1 \\\\ x_2 \\\\ x_3 \\end{matrix}\\right] &=  \\left[\\begin{matrix}a x_1 \\\\a x_2 \\\\ ax_3 \\end{matrix}\\right]\n",
    "\\end{align}"
   ]
  },
  {
   "cell_type": "markdown",
   "id": "2e7d4545",
   "metadata": {},
   "source": [
    "Importantly, this is exactly how adding vectors and scalars works in `numpy`."
   ]
  },
  {
   "cell_type": "code",
   "execution_count": 2,
   "id": "e878e9fa",
   "metadata": {},
   "outputs": [
    {
     "name": "stdout",
     "output_type": "stream",
     "text": [
      "[6 7 8]\n",
      "[10 20 30]\n"
     ]
    }
   ],
   "source": [
    "import numpy as np\n",
    "x = np.array([1,2,3])\n",
    "print(x + 5)\n",
    "print(x*10)"
   ]
  },
  {
   "cell_type": "markdown",
   "id": "e31ebe95",
   "metadata": {},
   "source": [
    "What if we want to add two vectors to each other? We can only do this if the vectors are exactly the same shape, because, to add two vectors together, we sum all of their corresponding entires. This looks like:\n",
    "\\begin{align}\n",
    "\t\\left[\\begin{matrix} a \\\\ b \\\\ c \\end{matrix}\\right] + \\left[\\begin{matrix} d \\\\ e \\\\ f \\end{matrix}\\right] = \\left[\\begin{matrix} a +d \\\\ b + e \\\\ c + f  \\end{matrix}\\right]\n",
    "\\end{align}"
   ]
  },
  {
   "cell_type": "markdown",
   "id": "46e397ae",
   "metadata": {},
   "source": [
    ":::{tip}\n",
    "If you want to add two vectors to each other, they must have exactly the same length.\n",
    ":::"
   ]
  },
  {
   "cell_type": "markdown",
   "id": "b3cfe6ba",
   "metadata": {},
   "source": [
    "And it's exactly the same in Python (note that we get an error if we try to add two vectors of different lengths):"
   ]
  },
  {
   "cell_type": "code",
   "execution_count": null,
   "id": "6ab0f372",
   "metadata": {},
   "outputs": [],
   "source": [
    "x = np.array([1,2,3])\n",
    "y = np.array([4,5,6])\n",
    "z = np.array([4,5,6,7])\n",
    "print(x+y)\n",
    "print(x+z)"
   ]
  },
  {
   "cell_type": "markdown",
   "id": "ccae26a4",
   "metadata": {},
   "source": [
    "Vector addition and scalar multiplication come in handy if we want to allow the three synapses in our little network to have different weights."
   ]
  },
  {
   "cell_type": "markdown",
   "id": "f8f9c210",
   "metadata": {},
   "source": [
    "```{figure} ./figs/figure\\ 3.png\n",
    "---\n",
    "height: 400px\n",
    "---\n",
    "```"
   ]
  },
  {
   "cell_type": "markdown",
   "id": "75cd534c",
   "metadata": {},
   "source": [
    "In scalar notation, we say:\n",
    ":::{math}\n",
    ":label: eq2\n",
    "x_1(t+1) = x_1(t) + w_1y(t)\\\\\n",
    "x_2(t+1) = x_2(t) + w_2y(t)\\\\\n",
    "x_3(t+1) = x_3(t) + w_3y(t)\n",
    ":::\n",
    "\n",
    "But we can make this look a lot simpler in vector notation!\n",
    ":::{admonition} Exercise\n",
    ":class: note\n",
    "Using the rules for vector addition and multiplication above, rewrite {eq}`eq2` as a vector equation.\n",
    "\n",
    ":::{admonition} Solution\n",
    ":class: seealso, dropdown\n",
    "\\begin{align}\n",
    "\t\\left[\\begin{matrix} x_1(t+1) \\\\ x_2(t+1) \\\\ x_3(t+1) \\end{matrix}\\right] &= \\left[\\begin{matrix} x_1(t)  \\\\ x_2(t)\\\\ x_3(t)\\end{matrix}\\right] +  \\left[\\begin{matrix} w_1  \\\\ w_2\\\\ w_3\\end{matrix}\\right]y(t)\n",
    "\\end{align}\n",
    "Or, equivalently:\n",
    "\\begin{align}\n",
    "\t\\textbf{x}(t+1) = \\textbf{x}(t) + \\textbf{w}y(t)\n",
    "\\end{align}\n",
    "where\n",
    "\\begin{align}\n",
    "\\textbf{w} = \\left[\\begin{matrix}w_1 \\\\ w_2 \\\\ w_3 \\end{matrix}\\right]\n",
    "\\end{align}\n",
    "and\n",
    "\\begin{align}\n",
    "\\textbf{x}(t) = \\left[\\begin{matrix}x_1(t) \\\\ x_2(t) \\\\ x_3(t) \\end{matrix}\\right]\n",
    "\\end{align}\n",
    ":::"
   ]
  },
  {
   "cell_type": "markdown",
   "id": "ba510281",
   "metadata": {},
   "source": [
    "(dotproduct)=\n",
    "### The Dot Product\n",
    "\n",
    ":::{admonition} Sigma Notation\n",
    ":class: dropdown, note\n",
    "Let's say you want to sum up the integers from 1 to 10. You could write $1 + 2 + 3 + 4 + \\cdots + 10,$ but there's a more compact way to do it:\n",
    "\\begin{align}\n",
    "\t\\sum_{i=1}^{10} i\n",
    "\\end{align}\n",
    "To turn something in sigma notation into a traditional sum, we look above and below the sigma ($\\Sigma$) to find the range of our *index variable*, which, in this case, is $i.$ $i$ is basically acting like a placeholder here. To figure out our sum, we take the expression after the sigma (just $i$, in this case), substitute in the full range of values for $i,$ and then add up everything we get. In plain English, the expression above means something like \"the sum of all $i$ as $i$ ranges from 1 to 10.\"\n",
    "\n",
    "Try it yourself! How would we express $x_1 + x_2 + x_3$ more compactly, using sigma notation?\n",
    "```{toggle}\n",
    "\\begin{align*}\n",
    "\\sum_{i=1}^3 x_i\n",
    "\\end{align*}\n",
    "```\n",
    ":::"
   ]
  },
  {
   "cell_type": "markdown",
   "id": "c877c53c",
   "metadata": {},
   "source": [
    "We can now handle a single neuron that projects to multiple other neurons, possibly with different connection strengths. But that isn't going to get us terribly far on its own. We need to figure out how to handle the situation where multiple presynaptic neurons project to a single postsynaptic neuron, like in the network below:"
   ]
  },
  {
   "cell_type": "markdown",
   "id": "855e201e",
   "metadata": {},
   "source": [
    "```{figure} ./figs/figure\\ 4.png\n",
    "---\n",
    "height: 400px\n",
    "---\n",
    "```"
   ]
  },
  {
   "cell_type": "markdown",
   "id": "1e9f77a4",
   "metadata": {},
   "source": [
    "We can write a scalar equation describing $x$'s activity at $t+1$ without too much trouble:\n",
    "\\begin{align}\n",
    "x(t+1) &= w_1y_1(t) + w_2y_2(t) + w_3y_3(t)\n",
    "\\end{align}\n",
    "Or, using sigma notation:\n",
    "\\begin{align}\n",
    "x(t+1) &= \\sum_{i=1}^3 w_iy_i(t)\n",
    "\\end{align}\n",
    "Sigma notation is super useful for writing things compactly, but we're still dealing with scalars here. How can we transform this into a vector equation? Turns out, there is a vector operation called the <b>dot product</b> that solves our problem for us.\n",
    "\n",
    ":::{admonition} Definition\n",
    ":class: note\n",
    "The ***dot product*** of two vectors $\\textbf{a}$ and $\\textbf{b}$, where $\\textbf{a} = (a_1, a_2, \\cdots, a_n)$ and $\\textbf{b} = (b_1, b_2, \\cdots, b_n)$ is simply:\n",
    "\\begin{align}\n",
    "\\textbf{a}\\cdot\\textbf{b} &= a_1b_1 + a_2b_2 + \\cdots + a_nb_n\\\\\n",
    "&= \\sum_{i=1}^na_ib_i\n",
    "\\end{align}\n",
    ":::\n",
    ":::{admonition} \n",
    ":class: tip\n",
    "Note that the dot product of two vectors is always a **scalar**.\n",
    ":::\n",
    "\n",
    "In other words, to take the dot product of two vectors, you line up all their entries, multiply them together in pairs, and then add up all the results. The fact that you have to pair the entries introduces an important limitation on the dot product:\n",
    ":::{tip}\n",
    "If you want to take the dot product of two vectors, they must have exactly the same length.\n",
    ":::"
   ]
  },
  {
   "cell_type": "markdown",
   "id": "ec746e7d",
   "metadata": {},
   "source": [
    "NumPy has a function to calculate the dot product: `np.dot`. Here's how it works:"
   ]
  },
  {
   "cell_type": "code",
   "execution_count": 6,
   "id": "ece8c1ae",
   "metadata": {},
   "outputs": [
    {
     "name": "stdout",
     "output_type": "stream",
     "text": [
      "6\n"
     ]
    },
    {
     "ename": "ValueError",
     "evalue": "shapes (3,) and (4,) not aligned: 3 (dim 0) != 4 (dim 0)",
     "output_type": "error",
     "traceback": [
      "\u001b[0;31m---------------------------------------------------------------------------\u001b[0m",
      "\u001b[0;31mValueError\u001b[0m                                Traceback (most recent call last)",
      "Cell \u001b[0;32mIn[6], line 5\u001b[0m\n\u001b[1;32m      3\u001b[0m c \u001b[38;5;241m=\u001b[39m np\u001b[38;5;241m.\u001b[39marray([\u001b[38;5;241m1\u001b[39m,\u001b[38;5;241m2\u001b[39m,\u001b[38;5;241m3\u001b[39m,\u001b[38;5;241m4\u001b[39m])\n\u001b[1;32m      4\u001b[0m \u001b[38;5;28mprint\u001b[39m(np\u001b[38;5;241m.\u001b[39mdot(a,b))\n\u001b[0;32m----> 5\u001b[0m \u001b[38;5;28mprint\u001b[39m(\u001b[43mnp\u001b[49m\u001b[38;5;241;43m.\u001b[39;49m\u001b[43mdot\u001b[49m\u001b[43m(\u001b[49m\u001b[43ma\u001b[49m\u001b[43m,\u001b[49m\u001b[43mc\u001b[49m\u001b[43m)\u001b[49m)\n",
      "File \u001b[0;32m<__array_function__ internals>:200\u001b[0m, in \u001b[0;36mdot\u001b[0;34m(*args, **kwargs)\u001b[0m\n",
      "\u001b[0;31mValueError\u001b[0m: shapes (3,) and (4,) not aligned: 3 (dim 0) != 4 (dim 0)"
     ]
    }
   ],
   "source": [
    "a = np.array([1,1,1])\n",
    "b = np.array([1,2,3])\n",
    "c = np.array([1,2,3,4])\n",
    "print(np.dot(a,b))\n",
    "print(np.dot(a,c))"
   ]
  },
  {
   "cell_type": "markdown",
   "id": "77d0f7d6",
   "metadata": {},
   "source": [
    "As expected, we get an error if we try to take the dot product of two vectors that have different lengths."
   ]
  },
  {
   "cell_type": "markdown",
   "id": "8bcf5027",
   "metadata": {},
   "source": [
    ":::{admonition} Exercise\n",
    ":class: note\n",
    "Compute the dot product of $\\textbf{a}$ and $\\textbf{b},$ where $\\textbf{a} = \\left[\\begin{matrix} 3 \\\\ 5 \\\\ -2 \\\\ 0 \\end{matrix}\\right]$ and $\\textbf{b} = \\left[\\begin{matrix} 1 \\\\ 3 \\\\ 4 \\\\ -3 \\end{matrix}\\right]$.\n",
    ":::{admonition} Solution\n",
    ":class: seealso, dropdown\n",
    "\\begin{align}\n",
    " \\left[\\begin{matrix} 3 \\\\ 5 \\\\ -2 \\\\ 0 \\end{matrix}\\right] \\cdot \\left[\\begin{matrix} 1 \\\\ 3 \\\\ 4 \\\\ -3 \\end{matrix}\\right] &= (3\\times 1) + (5 \\times 3) + (-2 \\times 4) + (0 \\times -3)\\\\\n",
    " &= 10\n",
    "\\end{align}\n",
    ":::"
   ]
  },
  {
   "cell_type": "markdown",
   "id": "4b939b5a",
   "metadata": {},
   "source": [
    ":::{admonition} Exercise\n",
    ":class: note\n",
    "Our scalar equation for the activity of the postsynaptic neuron, $x(t+1),$ is \n",
    "\\begin{align}\n",
    "x(t+1) &= w_1y_1(t) + w_2y_2(t) + w_3y_3(t)\n",
    "\\end{align}\n",
    "Use the dot product to rewrite this as a vector equation.\n",
    ":::{admonition} Solution\n",
    ":class: seealso, dropdown\n",
    "Using sigma notation, we can say \n",
    "\\begin{align}\n",
    "x(t+1) = \\sum_{i=1}^3w_iy_i(t)\n",
    "\\end{align}\n",
    "You should recognize this expression as equivalent to a dot product. In particular, if \n",
    "\\begin{align}\n",
    "\\textbf{y}(t) = \\left[\\begin{matrix}y_1(t) \\\\ y_2(t) \\\\ y_3(t) \\end{matrix}\\right]\n",
    "\\end{align}\n",
    "and\n",
    "\\begin{align}\\textbf{w} = \\left[\\begin{matrix}w_1 \\\\ w_2 \\\\ w_3 \\end{matrix}\\right]\n",
    "\\end{align}\n",
    "then\n",
    "\\begin{align}\n",
    "x(t+1) &= \\textbf{w}\\cdot\\textbf{y}(t)\n",
    "\\end{align}\n",
    ":::"
   ]
  },
  {
   "cell_type": "markdown",
   "id": "59338fe8",
   "metadata": {},
   "source": [
    "The dot product can be written in a number of different ways. You should be able to recognize all of them. For two vectors $\\textbf{a} = \\left[\\begin{matrix}a_1 \\\\ a_2 \\\\ a_3 \\end{matrix}\\right]$ and $\\textbf{b} = \\left[\\begin{matrix}b_1 \\\\ b_2 \\\\ b_3 \\end{matrix}\\right]$, all of the following expressions are equivalent:\n",
    "\\begin{align}\n",
    "\\textbf{a} &\\cdot \\textbf{b} \\end{align}\n",
    "\\begin{align}\n",
    "\\left[\\begin{matrix}a_1 \\\\ a_2 \\\\ a_3 \\end{matrix}\\right]\\cdot\\left[\\begin{matrix}b_1 \\\\ b_2 \\\\ b_3 \\end{matrix}\\right]\n",
    "\\end{align}\n",
    ":::{math}\n",
    ":label: eq3\n",
    "\\left[\\begin{matrix}a_1 & a_2 & a_3 \\end{matrix} \\right] \n",
    "\\left[\\begin{matrix}b_1 \\\\ b_2 \\\\ b_3 \\end{matrix}\\right]\n",
    ":::"
   ]
  },
  {
   "cell_type": "markdown",
   "id": "d06f41b1",
   "metadata": {},
   "source": [
    "Equation {eq}`eq3` might look a bit strange—we seem to have lost the central dot that tells us to take the dot product. This is just different notation for the same thing. Whenever you see a row vector immediately followed by a column vector, that's a dot product. This isn't just a random, annoying choice that mathematicians made: It comes directly from **matrix multiplication**, which we will learn about next."
   ]
  },
  {
   "cell_type": "markdown",
   "id": "f0f53707",
   "metadata": {},
   "source": [
    "## Matrices\n"
   ]
  },
  {
   "cell_type": "markdown",
   "id": "56f8835c",
   "metadata": {},
   "source": [
    "Finally, we are ready for a somewhat more realistic neural network. Let's consider a network with three presynaptic neurons and three post synaptic neurons, as in the figure below. (Note that the numbers in the axon terminals represent the weights—e.g. $w_{11}$—the $w$ is just elided for legibility.)\n",
    "```{figure} ./figs/figure\\ 9.png\n",
    "---\n",
    "height: 400px\n",
    "---\n",
    "```"
   ]
  },
  {
   "cell_type": "markdown",
   "id": "425e9faf",
   "metadata": {},
   "source": [
    ":::{admonition} Exercise\n",
    ":class: note\n",
    "Write the three scalar equations describing how the activity levels of $x_1,$ $x_2,$ and $x_3$ evolve in time. Then, rewrite each of those scalar equations as a vector equation.\n",
    ":::{admonition} Solution\n",
    ":class: seealso, dropdown\n",
    "\\begin{align}\n",
    "\tx_1(t+1) &= x_1(t) + w_{11}y_1(t) + w_{12}y_2(t) + w_{13}y_3(t)\\\\\n",
    "\tx_2(t+1) &= x_2(t) + w_{21}y_1(t) + w_{22}y_2(t) + w_{23}y_3(t)\\\\\n",
    "\tx_3(t+1) &= x_3(t) + w_{31}y_1(t) + w_{32}y_2(t) + w_{33}y_3(t)\n",
    "\\end{align}\n",
    "Taken separately, each $x_i$ neuron is just a single postsynaptic neuron with three presynaptic inputs, which is exactly the situation we had above. So to turn these into vector equations, we just have to use the dot product:\n",
    "\\begin{align}\n",
    "\tx_1(t+1) &= x_1(t) + \\left[\\begin{matrix}w_{11} \\\\ w_{12} \\\\ w_{13} \\end{matrix}\\right]\\cdot\\left[\\begin{matrix}y_1(t) \\\\ y_2(t) \\\\ y_3(t) \\end{matrix}\\right]\\\\\n",
    "\tx_2(t+1) &= x_2(t) + \\left[\\begin{matrix}w_{21} \\\\ w_{22} \\\\ w_{23} \\end{matrix}\\right]\\cdot\\left[\\begin{matrix}y_1(t) \\\\ y_2(t) \\\\ y_3(t) \\end{matrix}\\right]\\\\\n",
    "\tx_3(t+1) &= x_3(t) + \\left[\\begin{matrix}w_{31} \\\\ w_{32} \\\\ w_{33} \\end{matrix}\\right]\\cdot\\left[\\begin{matrix}y_1(t) \\\\ y_2(t) \\\\ y_3(t) \\end{matrix}\\right]\n",
    "\\end{align}\n",
    ":::"
   ]
  },
  {
   "cell_type": "markdown",
   "id": "1143cdb7",
   "metadata": {},
   "source": [
    "Using the notation we learned above, where a dot product can be written as a row vector followed by a column vector, the equations describing our network are:\n",
    "\\begin{align}\n",
    "\t\tx_1(t+1) &= x_1(t) + \\left[\\begin{matrix} w_{11} & w_{12} & w_{13} \\end{matrix}\\right]\\left[\\begin{matrix} y_1(t) \\\\ y_2(t) \\\\ y_3(t) \\end{matrix} \\right]\\\\\n",
    "\t\tx_2(t+1) &= x_2(t) + \\left[\\begin{matrix} w_{21} & w_{22} & w_{23} \\end{matrix}\\right]\\left[\\begin{matrix} y_1(t) \\\\ y_2(t) \\\\ y_3(t) \\end{matrix} \\right]\\\\\n",
    "\t\t\tx_3(t+1) &= x_3(t) + \\left[\\begin{matrix} w_{31} & w_{32} & w_{33} \\end{matrix}\\right]\\left[\\begin{matrix} y_1(t) \\\\ y_2(t) \\\\ y_3(t) \\end{matrix} \\right]\n",
    "\\end{align}"
   ]
  },
  {
   "cell_type": "markdown",
   "id": "c71cfe76",
   "metadata": {},
   "source": [
    "These equations all look very similar. Is there a way for us to combine these vector equations into one big equation, just like we combined scalar equations into a vector equation at the beginning of this lesson? It turns out there is—by using matrices!\n",
    "\n",
    "You can take the dot product of several different vectors $\\textbf{a}_1,$ $\\textbf{a}_2,$ $\\textbf{a}_3,$ etc. with a single vector $\\textbf{b}$ by stacking all the $\\textbf{a}_i$ into a two-dimensional structure called a **matrix** and multiplying *that* by $\\textbf{b}$."
   ]
  },
  {
   "cell_type": "markdown",
   "id": "1ed0f1f7",
   "metadata": {},
   "source": [
    ":::{admonition} Definition\n",
    ":class: note\n",
    "A ***matrix*** is a two-dimensional collection of scalars."
   ]
  },
  {
   "cell_type": "markdown",
   "id": "30254b13",
   "metadata": {},
   "source": [
    "So in our case, we want to stack all those $\\textbf{w}$ vectors into a matrix, which we will call $\\textbf{W}.$ (Matrices are typically written as bold capitals, like $\\textbf{W},$ versus vectors, which are written as bold lower-case letters, like $\\textbf{w}$.) Here's what it looks like when we turn our three vector equations into a single matrix equation:"
   ]
  },
  {
   "cell_type": "markdown",
   "id": "58f891c6",
   "metadata": {},
   "source": [
    ":::{math}\n",
    ":label: eq4\n",
    "\\left[\\begin{matrix} x_1(t+1)\\\\x_2(t+1)\\\\x_3(t+1) \\end{matrix}\\right] &=   \\left[\\begin{matrix} x_1(t)\\\\x_2(t)\\\\x_3(t) \\end{matrix}\\right] +  \\left[\\begin{matrix} w_{11} & w_{12} & w_{13} \\\\ w_{21} & w_{22} & w_{23} \\\\ w_{31} & w_{32} & w_{33}  \\end{matrix}\\right]\\left[\\begin{matrix} y_1(t) \\\\ y_2(t) \\\\ y_3(t) \\end{matrix} \\right]\n",
    ":::"
   ]
  },
  {
   "cell_type": "markdown",
   "id": "6a60d0e9",
   "metadata": {},
   "source": [
    "Let's break down {eq}`eq4` to figure out how it works. We can expand the last portion, where we multiply our matrix $\\textbf{W}$ by the vector:\n",
    "\\begin{align}\n",
    " \\left[\\begin{matrix} w_{11} & w_{12} & w_{13} \\\\ w_{21} & w_{22} & w_{23} \\\\ w_{31} & w_{32} & w_{33}  \\end{matrix}\\right]\\left[\\begin{matrix} y_1(t) \\\\ y_2(t) \\\\ y_3(t) \\end{matrix} \\right] &=  \\left[\\begin{matrix} w_{11}y_1(t) + w_{12}y_2(t) + w_{13}y_3(t) \\\\ w_{21}y_1(t) + w_{22}y_2(t) + w_{23}y_3(t) \\\\ w_{31}y_1(t) + w_{32}y_2(t) + w_{33}y_3(t)  \\end{matrix}\\right]\n",
    "\\end{align}"
   ]
  },
  {
   "cell_type": "markdown",
   "id": "eea2bab5",
   "metadata": {},
   "source": [
    "We've taken a 3x3 matrix, multiplied it by a 3x1 vector, and obtain another 3x1 vector. And each entry in that 3x1 vector is the **dot product** of one of the rows of $\\textbf{W}$ and $\\textbf{y}(t).$ **Matrix multiplication is just taking lots and lots of dot products.**"
   ]
  },
  {
   "cell_type": "markdown",
   "id": "ac80ae98",
   "metadata": {},
   "source": [
    "We just multiplied a matrix by a vector, but we can also multiply two matrices together. If $\\color{red}{\\textbf{a}} \\, \\color{black}{=} \\, \\left[\\begin{matrix}\\color{red}{a_1} \\\\ \\color{red}{a_2} \\\\ \\color{red}{a_3} \\end{matrix}\\right],$ $\\color{orange}{\\textbf{b}} \\, \\color{black} \\, = \\left[\\begin{matrix}\\color{orange}{b_1} \\\\ \\color{orange}{b_2} \\\\ \\color{orange}{b_3} \\end{matrix}\\right],$ etc:"
   ]
  },
  {
   "cell_type": "markdown",
   "id": "d7810f1e",
   "metadata": {},
   "source": [
    "\\begin{align}\n",
    "\\left[\\begin{matrix} \\color{red}{a_1} & \\color{red}{a_2} & \\color{red}{a_3}\\\\\n",
    "\\color{orange}{b_1} & \\color{orange}{b_2} & \\color{orange}{b_3}\\\\\n",
    "\\color{yellow}{c_1} & \\color{yellow}{c_2} & \\color{yellow}{c_3}\n",
    "\\end{matrix}\\right]\\left[\\begin{matrix} \\color{green}{d_1} & \\color{blue}{e_1} & \\color{purple}{f_1}\\\\\n",
    "\\color{green}{d_2} & \\color{blue}{e_2} & \\color{purple}{f_2}\\\\\n",
    "\\color{green}{d_3} & \\color{blue}{e_3} & \\color{purple}{f_3}\n",
    "\\end{matrix}\\right] &= \\left[\\begin{matrix} \\color{red}{\\textbf{a}}\\, \\color{black}{\\cdot}\\, \\color{green}{\\textbf{d}} & \\color{red}{\\textbf{a}}\\, \\color{black}{\\cdot}\\, \\color{blue}{\\textbf{e}} & \\color{red}{\\textbf{a}} \\,\\color{black}{\\cdot} \\,\\color{purple}{\\textbf{f}} \\\\\n",
    "\\color{orange}{\\textbf{b}}\\, \\color{black}{\\cdot} \\,\\color{green}{\\textbf{d}} & \\color{orange}{\\textbf{b}} \\,\\color{black}{\\cdot}\\,\\color{blue}{\\textbf{e}} & \\color{orange}{\\textbf{b}}\\, \\color{black}{\\cdot} \\,\\color{purple}{\\textbf{f}} \\\\ \n",
    "\\color{yellow}{\\textbf{c}} \\,\\color{black}{\\cdot}\\, \\color{green}{\\textbf{d}} & \\color{yellow}{\\textbf{c}} \\,\\color{black}{\\cdot}\\,\\color{blue}{\\textbf{e}} & \\color{yellow}{\\textbf{c}}\\, \\color{black}{\\cdot}\\, \\color{purple}{\\textbf{f}} \\end{matrix}\\right]\\\\\n",
    "&= \\left[\\begin{matrix} \\color{red}{a_1}\\color{green}{d_1} \\, \\color{black}{+} \\, \\color{red}{a_2}\\color{green}{d_2} \\, \\color{black}{+} \\, \\color{red}{a_3}\\color{green}{d_3} & \\color{red}{a_1}\\color{blue}{e_1} \\, \\color{black}{+} \\, \\color{red}{a_2}\\color{blue}{e_2} \\, \\color{black}{+} \\, \\color{red}{a_3}\\color{blue}{e_3}  \n",
    "& \\color{red}{a_1}\\color{purple}{f_1} \\, \\color{black}{+} \\, \\color{red}{a_2}\\color{purple}{f_2} \\, \\color{black}{+} \\, \\color{red}{a_3}\\color{purple}{f_3} \\\\\n",
    "\\color{orange}{b_1}\\color{green}{d_1} \\, \\color{black}{+} \\, \\color{orange}{b_2}\\color{green}{d_2} \\, \\color{black}{+} \\, \\color{orange}{b_3}\\color{green}{d_3} \n",
    "& \\color{orange}{b_1}\\color{blue}{e_1} \\, \\color{black}{+} \\, \\color{orange}{b_2}\\color{blue}{e_2} \\, \\color{black}{+} \\, \\color{orange}{b_3}\\color{blue}{e_3}\n",
    "& \\color{orange}{b_1}\\color{purple}{f_1} \\, \\color{black}{+} \\, \\color{orange}{b_2}\\color{purple}{f_2} \\, \\color{black}{+} \\, \\color{orange}{b_3}\\color{purple}{f_3}\\\\\n",
    "\\color{yellow}{c_1}\\color{green}{d_1} \\, \\color{black}{+} \\, \\color{yellow}{c_2}\\color{green}{d_2} \\, \\color{black}{+} \\, \\color{yellow}{c_3}\\color{green}{d_3} \n",
    "& \\color{yellow}{c_1}\\color{blue}{e_1} \\, \\color{black}{+} \\, \\color{yellow}{c_2}\\color{blue}{e_2} \\, \\color{black}{+} \\, \\color{yellow}{c_3}\\color{blue}{e_3}\n",
    "& \\color{yellow}{c_1}\\color{purple}{f_1} \\, \\color{black}{+} \\, \\color{yellow}{c_2}\\color{purple}{f_2} \\, \\color{black}{+} \\, \\color{yellow}{c_3}\\color{purple}{f_3}\n",
    "\\end{matrix}\\right]\n",
    "\\end{align}"
   ]
  },
  {
   "cell_type": "markdown",
   "id": "d2ddaba5",
   "metadata": {},
   "source": [
    "In general, if we want to find the entry in the $i^{\\text{th}}$ row and $j^{\\text{th}}$ column of some matrix $C = AB$ (which we denote $C_{ij}$), we do the following:\n",
    "* Take the $i^{\\text{th}}$ row of $A$\n",
    "* Take the $j^{\\text{th}}$ column of $B$\n",
    "* Find their dot product."
   ]
  },
  {
   "cell_type": "markdown",
   "id": "1b812c73",
   "metadata": {},
   "source": [
    "It is important to remember that we *always* take the rows of the first matrix, and the columns of the second. This has a really important consequence:\n",
    ":::{tip}\n",
    "In matrix multiplication, ***order matters***. $AB$ is **not** necessarily equal to $BA$.\n",
    ":::"
   ]
  },
  {
   "cell_type": "markdown",
   "id": "1355c946",
   "metadata": {},
   "source": [
    "There are a few different ways to execute matrix multiplication in Python. One, surprisingly, is just to use `np.dot()`—it can do matrix multiplication as well as the dot product. But using `np.dot()` for matrix multiplication might confuse people when they try to read your code. Instead, you can use `np.matmul` or `@`. All three of these options work exactly the same on matrices."
   ]
  },
  {
   "cell_type": "code",
   "execution_count": 7,
   "id": "a0ed6f9d",
   "metadata": {},
   "outputs": [
    {
     "name": "stdout",
     "output_type": "stream",
     "text": [
      "[[ -5   2   2]\n",
      " [ 25   9  -2]\n",
      " [  6  14 -10]]\n",
      "[[ -5   2   2]\n",
      " [ 25   9  -2]\n",
      " [  6  14 -10]]\n",
      "[[ -5   2   2]\n",
      " [ 25   9  -2]\n",
      " [  6  14 -10]]\n"
     ]
    }
   ],
   "source": [
    "A = np.array([[1,0,3],[4,2,-1],[0,2,0]])\n",
    "B = np.array([[4,-1,2],[3,7,-5],[-3,1,0]])\n",
    "print(np.dot(A,B))\n",
    "print(np.matmul(A,B))\n",
    "print(A@B)"
   ]
  },
  {
   "cell_type": "markdown",
   "id": "d71f872b",
   "metadata": {},
   "source": [
    "There's one more important feature of matrix multiplication to discuss. Remember how we can only take the dot product of vectors that have the same length? Since matrix multiplication comes down to lots of dot products, that restriction also affects the matrices we can multiply. In order to be able to take the dot product of the rows of the first matrix with the columns of the second, those rows and columns have to have the same length. "
   ]
  },
  {
   "cell_type": "markdown",
   "id": "9153d3ef",
   "metadata": {},
   "source": [
    ":::{tip}\n",
    "Matrices can only be multiplied if the number of columns of the first matrix is equal to the number of rows in the second.\n",
    ":::\n",
    "If you want to take $AB,$ and $A$ is a $c \\times d$ matrix, and $B$ is an $e \\times f$ matrix, you can only do the multiplication if $d = e.$ And your result will have dimensions $c \\times f.$"
   ]
  },
  {
   "cell_type": "markdown",
   "id": "bb2a3b0d",
   "metadata": {},
   "source": [
    ":::{admonition} Exercise\n",
    ":class: note\n",
    "Can you carry out the below matrix multiplications? If so, what dimensions will the result have? (You don't have to actually do the multiplication.)\n",
    "* $\\left[\\begin{matrix} 1 & 2 \\\\ 0 & -1 \\\\ -4 & 0 \\end{matrix}\\right] \\left[\\begin{matrix} 3 & 4 \\\\ 2 & -3 \\\\ 5 & 1 \\end{matrix}\\right]$\n",
    "* $\\left[\\begin{matrix} 1 & 2 \\\\ 0 & -1 \\\\ -4 & 0 \\end{matrix}\\right] \\left[\\begin{matrix} 3 & 2 & 5 \\\\ 4 & -3 & -1\\end{matrix}\\right]$\n",
    "* $ \\left[\\begin{matrix} 3 & 2 & 5 \\\\ 4 & -3 & -1\\end{matrix}\\right]\\left[\\begin{matrix} 1 & 2 \\\\ 0 & -1 \\\\ -4 & 0 \\end{matrix}\\right]$\n",
    ":::{admonition} Solution\n",
    ":class: seealso, dropdown\n",
    "* No\n",
    "* Yes; $3\\times 3$\n",
    "* Yes; $2\\times 2$\n",
    ":::"
   ]
  },
  {
   "cell_type": "markdown",
   "id": "73c82a87",
   "metadata": {},
   "source": [
    "And so now we can understand why\n",
    "\\begin{align}\n",
    "\\left[\\begin{matrix} a_1 & a_2 & a_3 \\end{matrix}\\right] \\left[\\begin{matrix}b_1\\\\ b_2\\\\ b_3\\end{matrix}\\right]\n",
    "\\end{align}\n",
    "is a dot product. It's matrix multiplication of a matrix with a single row and a matrix with a single column."
   ]
  },
  {
   "cell_type": "markdown",
   "id": "493deab4",
   "metadata": {},
   "source": [
    "### Special Matrices\n",
    "\n",
    "There are a couple more facts about matrices that we need to cover. First off is one really important matrix, the ***identity matrix***. There are identity matrices of every square dimension (i.e. $1\\times 1$, $2\\times 2$, $3 \\times 3$, etc.), but here's what the $3 \\times 3$ identity matrix looks like:\n",
    "\\begin{align}\n",
    "\t\\textbf{I} &=\\left[ \\begin{matrix}1 & 0 & 0 \\\\ 0 & 1 & 0 \\\\ 0 & 0 & 1 \\end{matrix}\\right]\n",
    "\\end{align}\n",
    "It follows a similar pattern for all dimensions—the diagonal is all 1s, and the other entries are all 0s. But what's the point of it? Well, let's try multiplying it by a generic 3-dimensional vector, $\\left[\\begin{matrix} a\\\\ b \\\\ c \\end{matrix} \\right]$:\n",
    "\\begin{align}\n",
    "\t\\textbf{I} \\cdot \\left[\\begin{matrix} a\\\\ b \\\\ c \\end{matrix} \\right] &= \\left[ \\begin{matrix}1 & 0 & 0 \\\\ 0 & 1 & 0 \\\\ 0 & 0 & 1 \\end{matrix}\\right] \\left[\\begin{matrix} a\\\\ b \\\\ c \\end{matrix} \\right]\\\\\n",
    "\t&= \\left[\\begin{matrix} a\\\\ b \\\\ c \\end{matrix} \\right]\n",
    "\\end{align}\n",
    "So we see why it's called the identity matrix: when multiplied by another matrix, it returns that matrix's identity (i.e., itself).\n",
    "\n",
    ":::{admonition} Definition\n",
    ":class: note\n",
    "The $n\\times n$ ***identity matrix*** is the $n\\times n$ matrix $\\textbf{I}$ such that, for any matrix of appropriate dimension $\\textbf{A}$, $\\textbf{A}\\textbf{I}$ = $\\textbf{I}\\textbf{A}$ = $\\textbf{A}.$\n",
    ":::"
   ]
  },
  {
   "cell_type": "markdown",
   "id": "9dd40a2d",
   "metadata": {},
   "source": [
    "To obtain the identity matrix in NumPy, just use `np.identity()` and put the dimension you want as the argument."
   ]
  },
  {
   "cell_type": "code",
   "execution_count": 8,
   "id": "cf8576cf",
   "metadata": {},
   "outputs": [
    {
     "name": "stdout",
     "output_type": "stream",
     "text": [
      "[[1. 0. 0. 0. 0.]\n",
      " [0. 1. 0. 0. 0.]\n",
      " [0. 0. 1. 0. 0.]\n",
      " [0. 0. 0. 1. 0.]\n",
      " [0. 0. 0. 0. 1.]]\n"
     ]
    }
   ],
   "source": [
    "print(np.identity(5))"
   ]
  },
  {
   "cell_type": "markdown",
   "id": "b3b066f4",
   "metadata": {},
   "source": [
    "Next, let's discuss the ***transpose***. This is a really easy one, so here's an example of how it works:\n",
    "\\begin{align}\n",
    "\t\\left[\\begin{matrix}  1 & 2 & 3 \\\\ 4 & 5 & 6 \\\\ 7 & 8 & 9 \\end{matrix} \\right]^{\\intercal} &= \\left[\\begin{matrix}  1 & 4 & 7 \\\\ 2 & 5 & 8 \\\\ 3 & 6 & 9 \\end{matrix} \\right]\n",
    "\\end{align}\n",
    "The transpose just reflects a matrix over its diagonal.\n",
    ":::{admonition} Definition\n",
    ":class: note\n",
    "The ***transpose*** of an $n\\times m$ matrix $\\textbf{A}$, $\\textbf{A}^{\\intercal},$ is the $m \\times n$ matrix such that $\\textbf{A}_{ij} = \\textbf{A}^{\\intercal}_{ji}$ for all $1 \\le i \\le n,$ $1 \\le j \\le m.$\n",
    ":::\n",
    "\n",
    "You'll find the transpose really useful in two primary circumstances. One has to do with handling data. Let's say someone gives you a weight matrix for a two-layer neural network like the ones we've been working with. But each row holds the weights corresponding to a given *input* neuron, not an *output* neuron, as has been the case in the examples we've worked with so far. This isn't too hard to handle—just take the transpose of the matrix, and the rows and columns will be switched:\n",
    "\\begin{align*}\n",
    "\t \\left[\\begin{matrix} w_{11} & w_{21} & w_{31} \\\\ w_{12} & w_{22} & w_{32} \\\\ w_{13} & w_{23} & w_{33}  \\end{matrix}\\right]^{\\intercal} &=  \\left[\\begin{matrix} w_{11} & w_{12} & w_{13} \\\\ w_{21} & w_{22} & w_{23} \\\\ w_{31} & w_{32} & w_{33}  \\end{matrix}\\right]\n",
    "\\end{align*}\n",
    "Another application has to do with vectors. Remember  how we discussed the relationship between the dot product and matrix multiplication? The dot product is just the result of matrix multiplying two vectors:\n",
    "\\begin{align*}\n",
    "\t\\left[\\begin{matrix} a & b & c \\end{matrix}\\right]\\left[\\begin{matrix} d \\\\ e \\\\ f \\end{matrix}\\right] &= ad + be + cf\n",
    "\\end{align*}\n",
    "What if we want to take the dot product of a matrix with itself? We have a problem, because to multiply two vectors, one has to be a row vector and the other has to be a column vector (why?). So if our vector is (as is conventional) a column vector, e.g.:\n",
    "\\begin{align*}\n",
    "\t\\mathbf{x} &= \\left[ \\begin{matrix}x_1 \\\\ x_2 \\\\ x_3 \\end{matrix}\\right]\n",
    "\\end{align*}\n",
    "we need to use the transpose to be able to take its dot product with itself.\n",
    "\\begin{align*}\n",
    "\t\\mathbf{x}^{\\intercal}\\mathbf{x} &= \\left[ \\begin{matrix}x_1 & x_2 & x_3 \\end{matrix}\\right]\\left[ \\begin{matrix}x_1 \\\\ x_2 \\\\ x_3 \\end{matrix}\\right]\\\\\n",
    "\t&= x_1^2 + x_2^2 + x_3^2\n",
    "\\end{align*}\n",
    "\n",
    "Transposes in NumPy are super easy—just append `.T` to the matrix."
   ]
  },
  {
   "cell_type": "code",
   "execution_count": 13,
   "id": "a2296f41",
   "metadata": {},
   "outputs": [
    {
     "name": "stdout",
     "output_type": "stream",
     "text": [
      "[[1 1 1]\n",
      " [0 1 1]\n",
      " [0 0 1]]\n",
      "[[1 0 0]\n",
      " [1 1 0]\n",
      " [1 1 1]]\n"
     ]
    }
   ],
   "source": [
    "A = np.array([[1,1,1],[0,1,1],[0,0,1]])\n",
    "print(A)\n",
    "print(A.T)"
   ]
  },
  {
   "cell_type": "markdown",
   "id": "f5649fb9",
   "metadata": {},
   "source": [
    "Next, we will discuss the ***determinant***. The determinant is going to seem like a bit of an obscure quantity for the moment. But we'll have to wait till we cover matrix inverses to learn its true power. But here's what it is, for a $2\\times 2$ matrix:\n",
    "\\begin{align*}\n",
    "\t\\begin{vmatrix} a & b \\\\ c & d \\end{vmatrix} &= ad - cb\n",
    "\\end{align*}\n",
    "(Those vertical lines just indicate that you are taking the determinant of the matrix between them.) Determinants exist for all square matrices, and there are similar formulas for all sizes of square matrix, but you don't have to worry about any of them except this one. For every matrix, the determinant is just a single number. And depending on what that number is, we can figure out some interesting things about the matrix.\n",
    "\n",
    "To calculate the determinant in NumPy, use `np.linalg.det`:"
   ]
  },
  {
   "cell_type": "code",
   "execution_count": 15,
   "id": "6667dfdc",
   "metadata": {},
   "outputs": [
    {
     "name": "stdout",
     "output_type": "stream",
     "text": [
      "[[ 1  2]\n",
      " [-3  1]]\n",
      "7.000000000000001\n"
     ]
    }
   ],
   "source": [
    "A = np.array([[1,2],[-3,1]])\n",
    "print(A)\n",
    "print(np.linalg.det(A))"
   ]
  },
  {
   "cell_type": "markdown",
   "id": "da14eba6-86cf-4f62-9c6d-9a9d9ee93b0f",
   "metadata": {},
   "source": [
    "Okay, what's the point of the determinant? There are actually lots of reasons it's important, but, for the moment, our biggest concern is how it factors into the **matrix inverse**.\n",
    "\n",
    "Just like the inverse of a scalar $a$, which is equal to $\\frac{1}{a}$, the inverse of a matrix $A$, which we write $A^{-1}$, essentially ”cancels” the matrix when you multiply them. In other terms:\n",
    "\\begin{align}\n",
    "a \\times a^{-1} &= a\\times\\frac{1}{a}\\\\\n",
    "&= 1\\\\\n",
    "AA^{-1} &= I\n",
    "\\end{align}\n",
    "\n",
    "Only square matrices can have inverses.\n",
    ":::{admonition} Definition\n",
    ":class: note\n",
    "The ***inverse*** of an $n\\times n$ matrix $\\textbf{A}$, $\\textbf{A}^{-1},$ is the $n \\times n$ matrix such that $\\textbf{A}\\textbf{A}^{-1} = \\textbf{A}^{-1}\\textbf{A} = \\textbf{I}.$\n",
    ":::\n",
    "\n",
    "Why care about the matrix inverse? Well, let's say we have a matrix equation:\n",
    "\\begin{align}\n",
    "\\textbf{y} = \\textbf{A}\\textbf{x}\n",
    "\\end{align}\n",
    "We know $\\textbf{A}$ and $\\textbf{y}$, and we want to solve for $\\textbf{x}.$ If $\\textbf{A}$, $\\textbf{x}$, and $\\textbf{y}$ were all scalars, we could just divide both sides by $\\textbf{A}$. But there's no such thing as matrix division! Instead, we can multiply both sides by $\\textbf{A}^{-1}$:\n",
    "\\begin{align}\n",
    "\\textbf{A}^{-1}\\textbf{y} &= \\textbf{A}^{-1} \\textbf{A}\\textbf{x}\\\\\n",
    "&= \\textbf{I}\\textbf{x}\\\\\n",
    "&= \\textbf{x}\\\\\n",
    "\\end{align}\n",
    "\n",
    "A crucial detail about matrix inverses: ***not all square matrices have inverses.*** Whether or not a given matrix is invertible is an important question that will have major implications when we discuss linear regression in Week 5."
   ]
  },
  {
   "cell_type": "markdown",
   "id": "d3a98073-bd63-4fc6-a978-342c0de54a5a",
   "metadata": {},
   "source": [
    "Finding the inverse of a matrix in NumPy is easy – simply use `np.linalg.inv()`, as below. The function will throw an error if the matrix is not invertible."
   ]
  },
  {
   "cell_type": "code",
   "execution_count": 5,
   "id": "f39d9709-2724-4464-a6b5-5b642947868f",
   "metadata": {},
   "outputs": [
    {
     "name": "stdout",
     "output_type": "stream",
     "text": [
      "[[ 1  2]\n",
      " [-3  1]]\n",
      "[[ 1.00000000e+00 -5.55111512e-17]\n",
      " [ 0.00000000e+00  1.00000000e+00]]\n"
     ]
    }
   ],
   "source": [
    "A = np.array([[1,2],[-3,1]])\n",
    "print(A)\n",
    "print(np.linalg.inv(A))\n",
    "print(A @ np.linalg.inv(A))"
   ]
  },
  {
   "cell_type": "code",
   "execution_count": 4,
   "id": "70abdc42-20d5-4f55-8d18-15b69024233b",
   "metadata": {},
   "outputs": [
    {
     "name": "stdout",
     "output_type": "stream",
     "text": [
      "[[1 2]\n",
      " [1 2]]\n"
     ]
    },
    {
     "ename": "LinAlgError",
     "evalue": "Singular matrix",
     "output_type": "error",
     "traceback": [
      "\u001b[0;31m---------------------------------------------------------------------------\u001b[0m",
      "\u001b[0;31mLinAlgError\u001b[0m                               Traceback (most recent call last)",
      "Cell \u001b[0;32mIn[4], line 3\u001b[0m\n\u001b[1;32m      1\u001b[0m B \u001b[38;5;241m=\u001b[39m np\u001b[38;5;241m.\u001b[39marray([[\u001b[38;5;241m1\u001b[39m,\u001b[38;5;241m2\u001b[39m],[\u001b[38;5;241m1\u001b[39m,\u001b[38;5;241m2\u001b[39m]])\n\u001b[1;32m      2\u001b[0m \u001b[38;5;28mprint\u001b[39m(B)\n\u001b[0;32m----> 3\u001b[0m \u001b[38;5;28mprint\u001b[39m(np\u001b[38;5;241m.\u001b[39mlinalg\u001b[38;5;241m.\u001b[39minv(B))\n",
      "File \u001b[0;32m~/miniconda3/lib/python3.11/site-packages/numpy/linalg/linalg.py:561\u001b[0m, in \u001b[0;36minv\u001b[0;34m(a)\u001b[0m\n\u001b[1;32m    559\u001b[0m signature \u001b[38;5;241m=\u001b[39m \u001b[38;5;124m'\u001b[39m\u001b[38;5;124mD->D\u001b[39m\u001b[38;5;124m'\u001b[39m \u001b[38;5;28;01mif\u001b[39;00m isComplexType(t) \u001b[38;5;28;01melse\u001b[39;00m \u001b[38;5;124m'\u001b[39m\u001b[38;5;124md->d\u001b[39m\u001b[38;5;124m'\u001b[39m\n\u001b[1;32m    560\u001b[0m extobj \u001b[38;5;241m=\u001b[39m get_linalg_error_extobj(_raise_linalgerror_singular)\n\u001b[0;32m--> 561\u001b[0m ainv \u001b[38;5;241m=\u001b[39m _umath_linalg\u001b[38;5;241m.\u001b[39minv(a, signature\u001b[38;5;241m=\u001b[39msignature, extobj\u001b[38;5;241m=\u001b[39mextobj)\n\u001b[1;32m    562\u001b[0m \u001b[38;5;28;01mreturn\u001b[39;00m wrap(ainv\u001b[38;5;241m.\u001b[39mastype(result_t, copy\u001b[38;5;241m=\u001b[39m\u001b[38;5;28;01mFalse\u001b[39;00m))\n",
      "File \u001b[0;32m~/miniconda3/lib/python3.11/site-packages/numpy/linalg/linalg.py:112\u001b[0m, in \u001b[0;36m_raise_linalgerror_singular\u001b[0;34m(err, flag)\u001b[0m\n\u001b[1;32m    111\u001b[0m \u001b[38;5;28;01mdef\u001b[39;00m \u001b[38;5;21m_raise_linalgerror_singular\u001b[39m(err, flag):\n\u001b[0;32m--> 112\u001b[0m     \u001b[38;5;28;01mraise\u001b[39;00m LinAlgError(\u001b[38;5;124m\"\u001b[39m\u001b[38;5;124mSingular matrix\u001b[39m\u001b[38;5;124m\"\u001b[39m)\n",
      "\u001b[0;31mLinAlgError\u001b[0m: Singular matrix"
     ]
    }
   ],
   "source": [
    "B = np.array([[1,2],[1,2]])\n",
    "print(B)\n",
    "print(np.linalg.inv(B))"
   ]
  },
  {
   "cell_type": "markdown",
   "id": "15539fe5-d5a9-4ca5-a5ef-42b76889e920",
   "metadata": {},
   "source": [
    ":::{admonition} Exercise\n",
    ":class: note\n",
    "Carry out the matrix multiplication to demonstrate that $\\frac{1}{ad - cb}\\begin{bmatrix} d & - b \\\\ -c & a \\end{bmatrix}$ really is the matrix inverse of $\\begin{bmatrix} a & b \\\\ c & d \\end{bmatrix}$.\n",
    ":::{admonition} Solution\n",
    ":class: seealso, dropdown\n",
    "\\begin{align}\n",
    "\\frac{1}{ad - cb}\\begin{bmatrix} d & - b \\\\ -c & a \\end{bmatrix}\\begin{bmatrix} a & b \\\\ c & d \\end{bmatrix} &= \\frac{1}{ad - cb} \\begin{bmatrix} da - bc & 0 \\\\ 0 & -cb + ad \\end{bmatrix}\\\\\n",
    "&= \\begin{bmatrix} 1 & 0 \\\\ 0 & 1 \\end{bmatrix}\\\\\n",
    "&= I\n",
    "\\end{align}\n",
    ":::"
   ]
  },
  {
   "cell_type": "markdown",
   "id": "bb22ef40",
   "metadata": {},
   "source": [
    "## The Geometric Interpretation\n",
    "\n",
    "Let's say we have two neurons, $x_1$ and $x_2,$ and we're tracking their activities in a vector\n",
    "\\begin{align}\n",
    "\\textbf{x}(t) &= \\left[\\begin{matrix} x_1(t) \\\\ x_2(t) \\end{matrix}\\right]\n",
    "\\end{align}\n"
   ]
  },
  {
   "cell_type": "markdown",
   "id": "a9f1a66e",
   "metadata": {},
   "source": [
    "At some time $t_1$, we might measure their activites and find\n",
    "\\begin{align}\n",
    "x(t_1) &= \\left[\\begin{matrix} 1 \\\\ 2 \\end{matrix}\\right]\n",
    "\\end{align}\n",
    "A reasonable thing to do would be to plot this data point, with the $x$-axis representing the $x_1$ neuron and the $y$-axis representing the $x_2$ neuron.\n",
    "\n",
    "```{figure} ./figs/geofig0.png\n",
    "---\n",
    "height: 400px\n",
    "---\n",
    "```\n",
    "\n",
    "This is an acceptable representation of that datum. But when we plot vectors, we typically plot them not as points, but as arrows from the origin, $(0,0)$, to the endpoint. Here's what that looks like. (Arrows aren't available in the software I used to make this plot, but you'll generally see them on the ends of vectors.)\n",
    "```{figure} ./figs/geofig1.png\n",
    "---\n",
    "height: 400px\n",
    "---\n",
    "```\n",
    "\n",
    "This representation of vectors ends up being handy when we want to apply operations, like addition. First, let's add another vector, $\\left[\\begin{matrix} 4 \\\\ 1 \\end{matrix}\\right]$, to our plot.\n",
    "```{figure} ./figs/geofig2.png\n",
    "---\n",
    "height: 400px\n",
    "---\n",
    "```\n",
    "We can easily calcualte that\n",
    "\\begin{align}\n",
    "\\left[\\begin{matrix} 1 \\\\ 2 \\end{matrix}\\right] + \\left[\\begin{matrix} 4 \\\\ 1 \\end{matrix}\\right] = \\left[\\begin{matrix} 5 \\\\ 3 \\end{matrix}\\right]\n",
    "\\end{align}\n",
    "Let's add that sum to our plot.\n",
    "```{figure} ./figs/geofig3.png\n",
    "---\n",
    "height: 400px\n",
    "---\n",
    "```\n",
    "This might not seem terribly illuminating. But if instead of anchoring both vectors to the origin we place them end to end, we'll see something interesting.\n",
    "```{figure} ./figs/geofig4.png\n",
    "---\n",
    "height: 400px\n",
    "---\n",
    "```\n",
    "The sum, in red, is just the diagonal of a parallelogram with sides defined by our two vectors, in green and blue. In other words, you can take the sum of two vectors, geometrically, by stacking them end-to-end and drawing a line between the start of one vector and the end of the other.\n",
    "\n",
    "There's also a straightforward geometric interpretation of scalar multiplication. We know\n",
    "\\begin{align}\n",
    "0.5 \\times \\left[\\begin{matrix} 1 \\\\ 2 \\end{matrix}\\right] = \\left[\\begin{matrix} 0.5 \\\\ 1\\end{matrix}\\right]\n",
    "\\end{align}\n",
    "and\n",
    "\\begin{align}\n",
    "2 \\times \\left[\\begin{matrix} 1 \\\\ 2\\end{matrix}\\right] = \\left[\\begin{matrix} 2 \\\\ 4\\end{matrix}\\right]\n",
    "\\end{align}\n",
    "What does this look like when we plot it? Multiplying our original vector by 0.5 yields:\n",
    "```{figure} ./figs/geofig5.png\n",
    "---\n",
    "height: 400px\n",
    "---\n",
    "```\n",
    "And multiplying it by 2 yields:\n",
    "```{figure} ./figs/geofig6.png\n",
    "---\n",
    "height: 400px\n",
    "---\n",
    "```\n",
    "In both cases, we have simply scaled the length of the vector by the scalar.\n",
    "\n",
    "The geometric interpretation also introduces a new feature of vectors—their magnitude or ***norm***. That's just a fancy work for the length of the vector. \n",
    ":::{admonition} Definition\n",
    ":class: note\n",
    "A vector's ***norm*** is simply its length.\n",
    ":::\n",
    "\n",
    "So the norm of $\\left[\\begin{matrix} 1 \\\\ 2 \\end{matrix}\\right]$ is just, by the Pythagorean theorem, $\\sqrt{1^2 + 2^2} = \\sqrt{5}.$ In general, the norm of a vector $\\textbf{x} = \\left[\\begin{matrix} x_1 \\\\ x_2 \\\\ x_3 \\end{matrix}\\right]$ is $\\sqrt{x_1^2 + x_2^2 + x_3^2}.$ Or,\n",
    "\\begin{align}\n",
    "\t\\lVert x \\rVert &= \\sqrt{x_1^2 + x_2^2 + x_3^2}\n",
    "\\end{align}\n",
    "\n",
    "Finally, there's also a straightfoward geometric interpretation of the [dot product](dotproduct). Let's return to our two vectors.\n",
    "```{figure} ./figs/geofig2.png\n",
    "---\n",
    "height: 400px\n",
    "---\n",
    "```\n",
    "We know that\n",
    "\\begin{align}\n",
    "\\left[\\begin{matrix}1 & 2 \\end{matrix}\\right] \\left[\\begin{matrix} 4 \\\\ 1 \\end{matrix}\\right] &= 6\n",
    "\\end{align}\n",
    "But there's another way to calculate the dot product. If we call our vectors $\\textbf{a}$ and $\\textbf{b}$, and the angle between them $\\theta$, it turns out that our dot product is equal to\n",
    "\\begin{align}\n",
    "\t\\lVert \\textbf{a} \\rVert \\lVert \\textbf{b} \\rVert \\cos\\theta\n",
    "\\end{align}\n",
    "Let's demonstrate that for our vectors. Using trigonometry, we can find that the angle between our vectors is approximately $49.4^{\\circ}.$ So our dot product is equal to\n",
    "\\begin{align}\n",
    "\\lVert \\textbf{a} \\rVert \\lVert \\textbf{b} \\rVert \\cos\\theta &= \\sqrt{1^2 + 2^2}\\times \\sqrt{4^2 + 1^2}\\times\\cos 49.4\\\\\n",
    "&= 6\n",
    "\\end{align}\n",
    "\n",
    "The geometric interpretation of the dot product gives us some important intuition about how the dot product works. If two vectors point in entirely the same direction (so have an angle of $0^{\\circ}$ between them), their dot product is just the product of their norms, because $\\cos(0) = 1.$ So the dot product is *maximized* when two vectors point in the same direction.\n",
    "\n",
    "And if two vectors are at a right angle, $90^{\\circ}$, to each other, we see something else—$\\cos(90) = 0,$ so the dot product is 0, regardless of the norms of the two vectors. If the dot product of two vectors is 0—if they point in completely different directions—we refer to them as ***orthogonal***.\n",
    ":::{admonition} Definition\n",
    ":class: note\n",
    "Two vectors are ***orthogonal*** if they sit at a right angle to each other.\n",
    ":::\n",
    "\n",
    ":::{admonition} Exercise\n",
    ":class: note\n",
    "Prove that two non-zero vectors with dot product 0 must be orthogonal.\n",
    ":::{admonition} Solution\n",
    ":class: seealso, dropdown\n",
    "Based on the geometric definition of the dot product, we can say (calling our vectors $\\textbf{a}$ and $\\textbf{b}$):\n",
    "\\begin{align}\n",
    "\\lVert \\textbf{a} \\rVert \\lVert \\textbf{b} \\rVert \\cos\\theta = 0\n",
    "\\end{align}\n",
    "We know that $\\lVert \\textbf{a} \\rVert$ and $\\lVert \\textbf{b} \\rVert$ must be nonzero—that's just the length of the vectors, and we were told our vectors are nonzero. So we must have\n",
    "\\begin{align}\n",
    "\\cos\\theta = 0\n",
    "\\end{align}\n",
    "So $\\theta = 90^{\\circ}, 270^{\\circ}, 450^{\\circ},$ etc.—all angles that have the vectors at right angles to each other.\n",
    ":::\n",
    "\n",
    "It's important—and often extremely helpful—to remember that all the objects we talk about in linear algebra, like vectors and matrices, are also geometric objects. We will learn about the geometric interpretation of matrices on this week's problem set.\n",
    "\n",
    "If you want some more practice thinking about vectors as geometric objects, try playing around with the interactive tool below."
   ]
  },
  {
   "cell_type": "code",
   "execution_count": 17,
   "id": "bbfe91fa",
   "metadata": {
    "tags": [
     "hide-input"
    ]
   },
   "outputs": [
    {
     "data": {
      "text/html": [
       "\n",
       "        <iframe\n",
       "            width=\"900\"\n",
       "            height=\"500\"\n",
       "            src=\"https://www.desmos.com/calculator/wcnkh335sd?embed?style=border%3A+1px+solid+%23ccc&frameborder=0\"\n",
       "            frameborder=\"0\"\n",
       "            allowfullscreen\n",
       "            \n",
       "        ></iframe>\n",
       "        "
      ],
      "text/plain": [
       "<IPython.lib.display.IFrame at 0x7fad96f4b3a0>"
      ]
     },
     "execution_count": 17,
     "metadata": {},
     "output_type": "execute_result"
    }
   ],
   "source": [
    "from IPython.display import IFrame\n",
    "IFrame('https://www.desmos.com/calculator/wcnkh335sd?embed', width=900, height=500,style=\"border: 1px solid #ccc\",frameborder=0)"
   ]
  },
  {
   "cell_type": "markdown",
   "id": "248b6fcb",
   "metadata": {},
   "source": [
    "## Bases\n",
    "\n",
    "Let's go back to that first plot we made, of the vector $\\textbf{x} = \\left[\\begin{matrix} 1 \\\\ 2 \\end{matrix}\\right].$ \n",
    "```{figure} ./figs/geofig1.png\n",
    "---\n",
    "height: 400px\n",
    "---\n",
    "```\n",
    "Our plotting strategy probably seems so obvious that it doesn't need to be said. The vector is $\\left[\\begin{matrix} 1 \\\\ 2 \\end{matrix}\\right],$ so we placed its end at $(1,2).$ But I want you to start thinking about things a bit differently.\n",
    "\n",
    "Let's define two vectors $\\textbf{e}_1 = \\left[\\begin{matrix} 1 \\\\ 0 \\end{matrix}\\right]$ and $\\textbf{e}_2 = \\left[\\begin{matrix} 0 \\\\ 1 \\end{matrix}\\right].$ We can add them to our plot:\n",
    "```{figure} ./figs/basisfig1.png\n",
    "---\n",
    "height: 400px\n",
    "---\n",
    "```\n",
    "Using $\\textbf{e}_1$ and $\\textbf{e}_2,$ we can rewrite $\\textbf{x}$:\n",
    "\\begin{align}\n",
    "\\textbf{x} &= 1\\textbf{e}_1 + 2\\textbf{e}_2\n",
    "\\end{align}\n",
    "Note that our coefficients are just the first and second entries of $\\textbf{x}$, respectively. So we just obtain $\\textbf{x}$ by scaling $\\textbf{e}_1$ by 1, scaling $\\textbf{e}_2$ by 2, and adding the result. Let's visualize that:\n",
    "```{figure} ./figs/basisfig2.png\n",
    "---\n",
    "height: 400px\n",
    "---\n",
    "```\n",
    "This gives us a totally new way to interpret what a vector means. A vector is just a collection of numbers by which we scale vectors in this special set—$\\textbf{e}_1$ and $\\textbf{e}_2$—before adding them. \n",
    ":::{math}\n",
    ":label: eq5\n",
    "\\left[\\begin{matrix} a \\\\ b \\end{matrix}\\right] \\sim a\\textbf{e}_1 + b\\textbf{e}_2\n",
    ":::\n",
    "The expression on the right, where we multiply $\\textbf{e}_1$ and $\\textbf{e}_2$ by scalars and then add them, is called a ***linear combination***. Since any two-dimensional vector can be written as a linear combination of $\\textbf{e}_1$ and $\\textbf{e}_2$, according to {eq}`eq5`, we refer to the whole set of two-dimensional vectors as the \n",
    "***span*** of $\\textbf{e}_1$ and $\\textbf{e}_2$.\n",
    "\n",
    ":::{admonition} Definition\n",
    ":class: note\n",
    "A ***linear combination*** is an expression in which a set of vectors is multiplied by scalars and then summed. The ***span*** of a set of vectors is all of the vectors that can be written as a linear combination of that set.\n",
    ":::\n",
    "\n",
    "The fact that we can write any two-dimensional vector as a linear combination of $\\textbf{e}_1$ and $\\textbf{e}_2$ is really important. Anything we want to do with two-dimensional vectors, we can do in terms of $\\textbf{e}_1$ and $\\textbf{e}_2$. They are basic ingredients we can use to make any (two-dimensional) linear algebra recipe we want. Because of this important feature, we call them a ***basis***.\n",
    "\n",
    ":::{admonition} Definition\n",
    ":class: note\n",
    "A ***basis*** for the set of $n$-dimensional vectors is any collection of $n$ vectors that spans that entire set.\n",
    ":::\n",
    "\n",
    "But $\\textbf{e}_1$ and $\\textbf{e}_2$ are *not* the only basis possible for two-dimensional vectors. For example, we could write any vector $\\left[\\begin{matrix} a \\\\ b\\end{matrix}\\right]$ as a linear combination of $\\left[\\begin{matrix} 2 \\\\ 0 \\end{matrix}\\right]$ and $\\left[\\begin{matrix} 0 \\\\ 2 \\end{matrix}\\right]$, using the coefficients $a/2$ and $b/2.$ So $\\left[\\begin{matrix} 2 \\\\ 0 \\end{matrix}\\right],$ $\\left[\\begin{matrix} 0 \\\\ 2 \\end{matrix}\\right]$ is *also* a basis.\n",
    "\n",
    ":::{admonition} Exercise\n",
    ":class: note\n",
    "Are the vectors $\\left[\\begin{matrix} 2 \\\\ 0\\end{matrix}\\right], \\left[\\begin{matrix} 4 \\\\ 0\\end{matrix}\\right]$ a basis for the set of two-dimensional vectors? Why or why not?\n",
    ":::{admonition} Solution\n",
    ":class: seealso, dropdown\n",
    "No, they are not a basis. Any vector $\\left[\\begin{matrix} a \\\\ b\\end{matrix}\\right]$ with $b \\neq 0$ cannot be written as a linear combination of those vectors.\n",
    ":::\n",
    "\n",
    "The existence of different bases means that there are tons of different ways to write the same vector. The vector $\\left[\\begin{matrix} 2 \\\\ 4 \\end{matrix}\\right]$ using the basis $(\\textbf{e}_1, \\textbf{e}_2)$ is equivalent to the vector $\\left[\\begin{matrix} 1 \\\\ 2 \\end{matrix}\\right]$ using the basis $\\left(\\left[\\begin{matrix} 2 \\\\ 0 \\end{matrix}\\right], \\left[\\begin{matrix} 0 \\\\ 2 \\end{matrix}\\right]\\right).$ (If that's not clear, expand each vector as a linear combination of its respective basis.)\n",
    "\n",
    "Let's visualize this. We know how to write our original vector, $\\left[\\begin{matrix} 1 \\\\ 2 \\end{matrix}\\right]$, in terms of the basis $(\\textbf{e}_1, \\textbf{e}_2)$:\n",
    "\\begin{align}\n",
    "\\left[\\begin{matrix} 1 \\\\ 2 \\end{matrix}\\right] &= 1\\textbf{e}_1 + 2\\textbf{e}_2\n",
    "\\end{align}\n",
    "Let's use another basis: $\\left(\\left[\\begin{matrix} 1 \\\\ 1 \\end{matrix}\\right], \\left[\\begin{matrix} -1 \\\\ 0 \\end{matrix}\\right]\\right)$. We can see:\n",
    "\\begin{align}\n",
    "\\left[\\begin{matrix} 1 \\\\ 2 \\end{matrix}\\right] &= 2\\left[\\begin{matrix} 1 \\\\ 1 \\end{matrix}\\right] + 1\\left[\\begin{matrix} -1 \\\\ 0 \\end{matrix}\\right]\n",
    "\\end{align}\n",
    "So in terms of our new basis, our vector is just $\\left[\\begin{matrix} 2 \\\\ 1 \\end{matrix}\\right].$ We could write something like\n",
    "\\begin{align}\n",
    "\\left[\\begin{matrix} 1 \\\\ 2 \\end{matrix}\\right]_{old} &= \\left[\\begin{matrix} 2 \\\\ 1 \\end{matrix}\\right]_{new}\n",
    "\\end{align}\n",
    "where the subscripts indicate the basis that we are using.\n",
    "\n",
    "Let's see what's going on geometrically. We can plot these new basis vectors:\n",
    "```{figure} ./figs/geofig7.png\n",
    "---\n",
    "height: 400px\n",
    "---\n",
    "```\n",
    "And then, just like for the first basis set, we scale them by the appropriate coefficients—2 and 1 respectively—and add them together to get our original vector.\n",
    "```{figure} ./figs/geofig8.png\n",
    "---\n",
    "height: 400px\n",
    "---\n",
    "```\n",
    "You can think of different bases like sets of paints. If you start with a good set of colors, you can mix them together in different proportions to get practically any color you want. But there are lots of different starting sets that you could theoretically use. Depending on the colors you start with, you'll need to use different recipes. But any set works equally well.\n",
    "```{figure} ./figs/colorpic.webp\n",
    "---\n",
    "height: 400px\n",
    "---\n",
    "```\n",
    ":::{admonition} Exercise\n",
    ":class: note\n",
    "Express the vector $\\left[\\begin{matrix} 3 \\\\ 4 \\end{matrix}\\right]$ in terms of each of the below basis sets.\n",
    "* $\\left[\\begin{matrix} 1 \\\\ 0 \\end{matrix}\\right], \\left[\\begin{matrix} 0 \\\\ 1 \\end{matrix}\\right]$\n",
    "* $\\left[\\begin{matrix} 2 \\\\ 1 \\end{matrix}\\right], \\left[\\begin{matrix} 1 \\\\ 3 \\end{matrix}\\right]$\n",
    "* $\\left[\\begin{matrix} 0 \\\\ 1 \\end{matrix}\\right], \\left[\\begin{matrix} 1 \\\\ 1 \\end{matrix}\\right]$\n",
    "\n",
    ":::{admonition} Solution\n",
    ":class: seealso, dropdown\n",
    "* $\\left[\\begin{matrix} 3 \\\\ 4 \\end{matrix}\\right]$\n",
    "* $\\left[\\begin{matrix} 1 \\\\ 1 \\end{matrix}\\right]$\n",
    "* $\\left[\\begin{matrix} 1 \\\\ 3 \\end{matrix}\\right]$\n",
    ":::\n",
    "\n",
    "The desmos calculator below allows you to play around a bit with different bases. Using the sliders, you can define a basis $(i,j)$ and see how it redefines the coordinate system. You can also plot a vector of your choice, in $(\\textbf{e}_1, \\textbf{e}_2)$ coordinates, and see how you would express it in the new basis. Choosing a new basis really is like drawing a new coordinate system."
   ]
  },
  {
   "cell_type": "code",
   "execution_count": 20,
   "id": "6e91eb08",
   "metadata": {
    "tags": [
     "hide-input"
    ]
   },
   "outputs": [
    {
     "data": {
      "text/html": [
       "\n",
       "        <iframe\n",
       "            width=\"900\"\n",
       "            height=\"500\"\n",
       "            src=\"https://www.desmos.com/calculator/jhb1znrllb?embed?style=border%3A+1px+solid+%23ccc&frameborder=0\"\n",
       "            frameborder=\"0\"\n",
       "            allowfullscreen\n",
       "            \n",
       "        ></iframe>\n",
       "        "
      ],
      "text/plain": [
       "<IPython.lib.display.IFrame at 0x7fad96f4a470>"
      ]
     },
     "execution_count": 20,
     "metadata": {},
     "output_type": "execute_result"
    }
   ],
   "source": [
    "IFrame('https://www.desmos.com/calculator/jhb1znrllb?embed', width=900, height=500,style=\"border: 1px solid #ccc\",frameborder=0)"
   ]
  },
  {
   "cell_type": "markdown",
   "id": "41ca8a9d",
   "metadata": {},
   "source": [
    "Why should we care about this at all in neuroscience? If we can express a vector in terms of any basis, isn't every basis equally good? As it turns out, different bases can be better or worse for different purposes. Sometimes, choosing a basis wisely can make our data much simpler. This insight is the cornerstone of principal component analysis (PCA), which we will cover in a couple of weeks.\n",
    "\n",
    "For now, here's a quick example. Let's say we collect data from two neurons and plot them, and we obtain something that looks like this:\n",
    "\n"
   ]
  },
  {
   "cell_type": "code",
   "execution_count": 26,
   "id": "131f768c",
   "metadata": {
    "tags": [
     "hide-input"
    ]
   },
   "outputs": [
    {
     "data": {
      "text/plain": [
       "<matplotlib.collections.PathCollection at 0x7fad9ae9ed10>"
      ]
     },
     "execution_count": 26,
     "metadata": {},
     "output_type": "execute_result"
    },
    {
     "data": {
      "image/png": "[encoded data removed]",
      "text/plain": [
       "<Figure size 640x480 with 1 Axes>"
      ]
     },
     "metadata": {},
     "output_type": "display_data"
    }
   ],
   "source": [
    "import matplotlib.pyplot as plt\n",
    "%matplotlib inline\n",
    "data = np.random.rand(20)*10\n",
    "plt.scatter(data,data)"
   ]
  },
  {
   "cell_type": "markdown",
   "id": "5daf3b60",
   "metadata": {},
   "source": [
    "It looks like the two neuros are firing exactly in sync! If we write out or data in the standard basis, it's going to look something like\n",
    "\\begin{align}\n",
    "\\left[\\begin{matrix} 1.2 \\\\ 1.2 \\end{matrix}\\right],\\left[\\begin{matrix} 4.3 \\\\ 4.3 \\end{matrix}\\right], \\left[\\begin{matrix} 8.9 \\\\ 8.9 \\end{matrix}\\right], \\cdots\n",
    "\\end{align}\n",
    "It seems kind of silly to keep writing out both of these numbers. In an important sense, our data aren't really two-dimensional—they are essentially one-dimensional. If we know the activity of one of the two neurons, we already know the activity of the other.\n",
    "\n",
    "Is there a way we can encode this insight? Yes! We can switch to a cleverly chosen basis—in this case, $\\left(\\left[\\begin{matrix} 1 \\\\ 1 \\end{matrix}\\right],\\left[\\begin{matrix} 1 \\\\ -1 \\end{matrix}\\right]\\right)$. In this new basis, our data look a lot simpler:\n",
    "\\begin{align}\n",
    "\\left[\\begin{matrix} 1.2 \\\\ 0 \\end{matrix}\\right],\\left[\\begin{matrix} 4.3 \\\\ 0 \\end{matrix}\\right], \\left[\\begin{matrix} 8.9 \\\\ 0 \\end{matrix}\\right], \\cdots\n",
    "\\end{align}\n",
    "\n",
    "Now we can essentially ignore the second entry in each vector. By changing our basis, we've made a two-dimenional dataset one-dimensional."
   ]
  }
 ],
 "metadata": {
  "kernelspec": {
   "display_name": "Python 3 (ipykernel)",
   "language": "python",
   "name": "python3"
  },
  "language_info": {
   "codemirror_mode": {
    "name": "ipython",
    "version": 3
   },
   "file_extension": ".py",
   "mimetype": "text/x-python",
   "name": "python",
   "nbconvert_exporter": "python",
   "pygments_lexer": "ipython3",
   "version": "3.11.5"
  }
 },
 "nbformat": 4,
 "nbformat_minor": 5
}
